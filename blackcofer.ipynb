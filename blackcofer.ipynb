{
 "cells": [
  {
   "cell_type": "code",
   "execution_count": 1,
   "id": "61dd1f92",
   "metadata": {},
   "outputs": [],
   "source": [
    "import pandas as pd\n",
    "import requests\n",
    "from bs4 import BeautifulSoup\n",
    "import random\n",
    "import numpy as np"
   ]
  },
  {
   "cell_type": "code",
   "execution_count": 130,
   "id": "27ce8470",
   "metadata": {},
   "outputs": [
    {
     "name": "stdout",
     "output_type": "stream",
     "text": [
      "Collecting bls-data\n",
      "  Downloading bls_data-0.0.2-py3-none-any.whl (157 kB)\n",
      "\u001b[2K     \u001b[90m━━━━━━━━━━━━━━━━━━━━━━━━━━━━━━━━━━━━━━━\u001b[0m \u001b[32m157.3/157.3 kB\u001b[0m \u001b[31m1.5 MB/s\u001b[0m eta \u001b[36m0:00:00\u001b[0m00:01\u001b[0m00:01\u001b[0m\n",
      "\u001b[?25hRequirement already satisfied: requests in /Library/Frameworks/Python.framework/Versions/3.10/lib/python3.10/site-packages (from bls-data) (2.28.1)\n",
      "Requirement already satisfied: plotly in /Library/Frameworks/Python.framework/Versions/3.10/lib/python3.10/site-packages (from bls-data) (5.9.0)\n",
      "Requirement already satisfied: pandas in /Library/Frameworks/Python.framework/Versions/3.10/lib/python3.10/site-packages (from bls-data) (1.4.3)\n",
      "Requirement already satisfied: python-dateutil>=2.8.1 in /Library/Frameworks/Python.framework/Versions/3.10/lib/python3.10/site-packages (from pandas->bls-data) (2.8.2)\n",
      "Requirement already satisfied: pytz>=2020.1 in /Library/Frameworks/Python.framework/Versions/3.10/lib/python3.10/site-packages (from pandas->bls-data) (2022.1)\n",
      "Requirement already satisfied: numpy>=1.21.0 in /Library/Frameworks/Python.framework/Versions/3.10/lib/python3.10/site-packages (from pandas->bls-data) (1.23.0)\n",
      "Requirement already satisfied: tenacity>=6.2.0 in /Library/Frameworks/Python.framework/Versions/3.10/lib/python3.10/site-packages (from plotly->bls-data) (8.0.1)\n",
      "Requirement already satisfied: idna<4,>=2.5 in /Library/Frameworks/Python.framework/Versions/3.10/lib/python3.10/site-packages (from requests->bls-data) (3.3)\n",
      "Requirement already satisfied: charset-normalizer<3,>=2 in /Library/Frameworks/Python.framework/Versions/3.10/lib/python3.10/site-packages (from requests->bls-data) (2.1.0)\n",
      "Requirement already satisfied: urllib3<1.27,>=1.21.1 in /Library/Frameworks/Python.framework/Versions/3.10/lib/python3.10/site-packages (from requests->bls-data) (1.26.11)\n",
      "Requirement already satisfied: certifi>=2017.4.17 in /Library/Frameworks/Python.framework/Versions/3.10/lib/python3.10/site-packages (from requests->bls-data) (2022.6.15)\n",
      "Requirement already satisfied: six>=1.5 in /Library/Frameworks/Python.framework/Versions/3.10/lib/python3.10/site-packages (from python-dateutil>=2.8.1->pandas->bls-data) (1.16.0)\n",
      "Installing collected packages: bls-data\n",
      "Successfully installed bls-data-0.0.2\n",
      "Note: you may need to restart the kernel to use updated packages.\n"
     ]
    }
   ],
   "source": [
    "pip install bls-data"
   ]
  },
  {
   "cell_type": "code",
   "execution_count": 52,
   "id": "16f53bec",
   "metadata": {},
   "outputs": [
    {
     "data": {
      "text/html": [
       "<div>\n",
       "<style scoped>\n",
       "    .dataframe tbody tr th:only-of-type {\n",
       "        vertical-align: middle;\n",
       "    }\n",
       "\n",
       "    .dataframe tbody tr th {\n",
       "        vertical-align: top;\n",
       "    }\n",
       "\n",
       "    .dataframe thead th {\n",
       "        text-align: right;\n",
       "    }\n",
       "</style>\n",
       "<table border=\"1\" class=\"dataframe\">\n",
       "  <thead>\n",
       "    <tr style=\"text-align: right;\">\n",
       "      <th></th>\n",
       "      <th>Unnamed: 1</th>\n",
       "    </tr>\n",
       "    <tr>\n",
       "      <th>sub11 (1)</th>\n",
       "      <th></th>\n",
       "    </tr>\n",
       "  </thead>\n",
       "  <tbody>\n",
       "    <tr>\n",
       "      <th>URL_ID</th>\n",
       "      <td>URL</td>\n",
       "    </tr>\n",
       "    <tr>\n",
       "      <th>37</th>\n",
       "      <td>https://insights.blackcoffer.com/ai-in-healthc...</td>\n",
       "    </tr>\n",
       "    <tr>\n",
       "      <th>38</th>\n",
       "      <td>https://insights.blackcoffer.com/what-if-the-c...</td>\n",
       "    </tr>\n",
       "    <tr>\n",
       "      <th>39</th>\n",
       "      <td>https://insights.blackcoffer.com/what-jobs-wil...</td>\n",
       "    </tr>\n",
       "    <tr>\n",
       "      <th>40</th>\n",
       "      <td>https://insights.blackcoffer.com/will-machine-...</td>\n",
       "    </tr>\n",
       "  </tbody>\n",
       "</table>\n",
       "</div>"
      ],
      "text/plain": [
       "                                                  Unnamed: 1\n",
       "sub11 (1)                                                   \n",
       "URL_ID                                                   URL\n",
       "37         https://insights.blackcoffer.com/ai-in-healthc...\n",
       "38         https://insights.blackcoffer.com/what-if-the-c...\n",
       "39         https://insights.blackcoffer.com/what-jobs-wil...\n",
       "40         https://insights.blackcoffer.com/will-machine-..."
      ]
     },
     "execution_count": 52,
     "metadata": {},
     "output_type": "execute_result"
    }
   ],
   "source": [
    "df=pd.read_excel(\"/Users/abhishekroy/Downloads/input.xlsx\",index_col=0)\n",
    "df.head()"
   ]
  },
  {
   "cell_type": "code",
   "execution_count": 53,
   "id": "4a188e1d",
   "metadata": {},
   "outputs": [],
   "source": [
    "df_new=pd.DataFrame()"
   ]
  },
  {
   "cell_type": "code",
   "execution_count": 54,
   "id": "37ba39d3",
   "metadata": {},
   "outputs": [],
   "source": [
    "df_new=df.iloc[1:]"
   ]
  },
  {
   "cell_type": "code",
   "execution_count": 55,
   "id": "692cb101",
   "metadata": {},
   "outputs": [
    {
     "data": {
      "text/html": [
       "<div>\n",
       "<style scoped>\n",
       "    .dataframe tbody tr th:only-of-type {\n",
       "        vertical-align: middle;\n",
       "    }\n",
       "\n",
       "    .dataframe tbody tr th {\n",
       "        vertical-align: top;\n",
       "    }\n",
       "\n",
       "    .dataframe thead th {\n",
       "        text-align: right;\n",
       "    }\n",
       "</style>\n",
       "<table border=\"1\" class=\"dataframe\">\n",
       "  <thead>\n",
       "    <tr style=\"text-align: right;\">\n",
       "      <th></th>\n",
       "      <th>Unnamed: 1</th>\n",
       "    </tr>\n",
       "    <tr>\n",
       "      <th>sub11 (1)</th>\n",
       "      <th></th>\n",
       "    </tr>\n",
       "  </thead>\n",
       "  <tbody>\n",
       "    <tr>\n",
       "      <th>37</th>\n",
       "      <td>https://insights.blackcoffer.com/ai-in-healthc...</td>\n",
       "    </tr>\n",
       "    <tr>\n",
       "      <th>38</th>\n",
       "      <td>https://insights.blackcoffer.com/what-if-the-c...</td>\n",
       "    </tr>\n",
       "    <tr>\n",
       "      <th>39</th>\n",
       "      <td>https://insights.blackcoffer.com/what-jobs-wil...</td>\n",
       "    </tr>\n",
       "    <tr>\n",
       "      <th>40</th>\n",
       "      <td>https://insights.blackcoffer.com/will-machine-...</td>\n",
       "    </tr>\n",
       "    <tr>\n",
       "      <th>41</th>\n",
       "      <td>https://insights.blackcoffer.com/will-ai-repla...</td>\n",
       "    </tr>\n",
       "  </tbody>\n",
       "</table>\n",
       "</div>"
      ],
      "text/plain": [
       "                                                  Unnamed: 1\n",
       "sub11 (1)                                                   \n",
       "37         https://insights.blackcoffer.com/ai-in-healthc...\n",
       "38         https://insights.blackcoffer.com/what-if-the-c...\n",
       "39         https://insights.blackcoffer.com/what-jobs-wil...\n",
       "40         https://insights.blackcoffer.com/will-machine-...\n",
       "41         https://insights.blackcoffer.com/will-ai-repla..."
      ]
     },
     "execution_count": 55,
     "metadata": {},
     "output_type": "execute_result"
    }
   ],
   "source": [
    "df_new.head()"
   ]
  },
  {
   "cell_type": "code",
   "execution_count": 56,
   "id": "b5b61d25",
   "metadata": {},
   "outputs": [],
   "source": [
    "url=[]\n",
    "for i in df_new['Unnamed: 1'][:114]:\n",
    "    #if i==np.nan or i=='URL':\n",
    "        #break\n",
    "    url.append(i)"
   ]
  },
  {
   "cell_type": "code",
   "execution_count": 57,
   "id": "8969c636",
   "metadata": {},
   "outputs": [
    {
     "data": {
      "text/plain": [
       "114"
      ]
     },
     "execution_count": 57,
     "metadata": {},
     "output_type": "execute_result"
    }
   ],
   "source": [
    "len(url)"
   ]
  },
  {
   "cell_type": "code",
   "execution_count": 58,
   "id": "988af032",
   "metadata": {},
   "outputs": [
    {
     "data": {
      "text/plain": [
       "['https://insights.blackcoffer.com/ai-in-healthcare-to-improve-patient-outcomes/',\n",
       " 'https://insights.blackcoffer.com/what-if-the-creation-is-taking-over-the-creator/',\n",
       " 'https://insights.blackcoffer.com/what-jobs-will-robots-take-from-humans-in-the-future/',\n",
       " 'https://insights.blackcoffer.com/will-machine-replace-the-human-in-the-future-of-work/',\n",
       " 'https://insights.blackcoffer.com/will-ai-replace-us-or-work-with-us/',\n",
       " 'https://insights.blackcoffer.com/man-and-machines-together-machines-are-more-diligent-than-humans-blackcoffe/',\n",
       " 'https://insights.blackcoffer.com/in-future-or-in-upcoming-years-humans-and-machines-are-going-to-work-together-in-every-field-of-work/',\n",
       " 'https://insights.blackcoffer.com/how-neural-networks-can-be-applied-in-various-areas-in-the-future/',\n",
       " 'https://insights.blackcoffer.com/how-machine-learning-will-affect-your-business/',\n",
       " 'https://insights.blackcoffer.com/deep-learning-impact-on-areas-of-e-learning/',\n",
       " 'https://insights.blackcoffer.com/how-to-protect-future-data-and-its-privacy-blackcoffer/',\n",
       " 'https://insights.blackcoffer.com/how-machines-ai-automations-and-robo-human-are-effective-in-finance-and-banking/',\n",
       " 'https://insights.blackcoffer.com/ai-human-robotics-machine-future-planet-blackcoffer-thinking-jobs-workplace/',\n",
       " 'https://insights.blackcoffer.com/how-ai-will-change-the-world-blackcoffer/',\n",
       " 'https://insights.blackcoffer.com/future-of-work-how-ai-has-entered-the-workplace/',\n",
       " 'https://insights.blackcoffer.com/ai-tool-alexa-google-assistant-finance-banking-tool-future/',\n",
       " 'https://insights.blackcoffer.com/ai-healthcare-revolution-ml-technology-algorithm-google-analytics-industrialrevolution/',\n",
       " 'https://insights.blackcoffer.com/all-you-need-to-know-about-online-marketing/',\n",
       " 'https://insights.blackcoffer.com/evolution-of-advertising-industry/',\n",
       " 'https://insights.blackcoffer.com/how-data-analytics-can-help-your-business-respond-to-the-impact-of-covid-19/',\n",
       " 'https://insights.blackcoffer.com/covid-19-environmental-impact-for-the-future/',\n",
       " 'https://insights.blackcoffer.com/environmental-impact-of-the-covid-19-pandemic-lesson-for-the-future/',\n",
       " 'https://insights.blackcoffer.com/how-data-analytics-and-ai-are-used-to-halt-the-covid-19-pandemic/',\n",
       " 'https://insights.blackcoffer.com/difference-between-artificial-intelligence-machine-learning-statistics-and-data-mining/',\n",
       " 'https://insights.blackcoffer.com/how-python-became-the-first-choice-for-data-science/',\n",
       " 'https://insights.blackcoffer.com/how-google-fit-measure-heart-and-respiratory-rates-using-a-phone/',\n",
       " 'https://insights.blackcoffer.com/what-is-the-future-of-mobile-apps/',\n",
       " 'https://insights.blackcoffer.com/impact-of-ai-in-health-and-medicine/',\n",
       " 'https://insights.blackcoffer.com/telemedicine-what-patients-like-and-dislike-about-it/',\n",
       " 'https://insights.blackcoffer.com/how-we-forecast-future-technologies/',\n",
       " 'https://insights.blackcoffer.com/can-robots-tackle-late-life-loneliness/',\n",
       " 'https://insights.blackcoffer.com/embedding-care-robots-into-society-socio-technical-considerations/',\n",
       " 'https://insights.blackcoffer.com/management-challenges-for-future-digitalization-of-healthcare-services/',\n",
       " 'https://insights.blackcoffer.com/are-we-any-closer-to-preventing-a-nuclear-holocaust/',\n",
       " 'https://insights.blackcoffer.com/will-technology-eliminate-the-need-for-animal-testing-in-drug-development/',\n",
       " 'https://insights.blackcoffer.com/will-we-ever-understand-the-nature-of-consciousness/',\n",
       " 'https://insights.blackcoffer.com/will-we-ever-colonize-outer-space/',\n",
       " 'https://insights.blackcoffer.com/what-is-the-chance-homo-sapiens-will-survive-for-the-next-500-years/',\n",
       " 'https://insights.blackcoffer.com/why-does-your-business-need-a-chatbot/',\n",
       " 'https://insights.blackcoffer.com/how-you-lead-a-project-or-a-team-without-any-technical-expertise/',\n",
       " 'https://insights.blackcoffer.com/can-you-be-great-leader-without-technical-expertise/',\n",
       " 'https://insights.blackcoffer.com/how-does-artificial-intelligence-affect-the-environment/',\n",
       " 'https://insights.blackcoffer.com/how-to-overcome-your-fear-of-making-mistakes-2/',\n",
       " 'https://insights.blackcoffer.com/is-perfection-the-greatest-enemy-of-productivity/',\n",
       " 'https://insights.blackcoffer.com/global-financial-crisis-2008-causes-effects-and-its-solution/',\n",
       " 'https://insights.blackcoffer.com/gender-diversity-and-equality-in-the-tech-industry/',\n",
       " 'https://insights.blackcoffer.com/how-to-overcome-your-fear-of-making-mistakes/',\n",
       " 'https://insights.blackcoffer.com/how-small-business-can-survive-the-coronavirus-crisis/',\n",
       " 'https://insights.blackcoffer.com/impacts-of-covid-19-on-vegetable-vendors-and-food-stalls/',\n",
       " 'https://insights.blackcoffer.com/impacts-of-covid-19-on-vegetable-vendors/',\n",
       " 'https://insights.blackcoffer.com/impact-of-covid-19-pandemic-on-tourism-aviation-industries/',\n",
       " 'https://insights.blackcoffer.com/impact-of-covid-19-pandemic-on-sports-events-around-the-world/',\n",
       " 'https://insights.blackcoffer.com/changing-landscape-and-emerging-trends-in-the-indian-it-ites-industry/',\n",
       " 'https://insights.blackcoffer.com/online-gaming-adolescent-online-gaming-effects-demotivated-depression-musculoskeletal-and-psychosomatic-symptoms/',\n",
       " 'https://insights.blackcoffer.com/human-rights-outlook/',\n",
       " 'https://insights.blackcoffer.com/how-voice-search-makes-your-business-a-successful-business/',\n",
       " 'https://insights.blackcoffer.com/how-the-covid-19-crisis-is-redefining-jobs-and-services/',\n",
       " 'https://insights.blackcoffer.com/how-to-increase-social-media-engagement-for-marketers/',\n",
       " 'https://insights.blackcoffer.com/impacts-of-covid-19-on-streets-sides-food-stalls/',\n",
       " 'https://insights.blackcoffer.com/coronavirus-impact-on-energy-markets-2/',\n",
       " 'https://insights.blackcoffer.com/coronavirus-impact-on-the-hospitality-industry-5/',\n",
       " 'https://insights.blackcoffer.com/lessons-from-the-past-some-key-learnings-relevant-to-the-coronavirus-crisis-4/',\n",
       " 'https://insights.blackcoffer.com/estimating-the-impact-of-covid-19-on-the-world-of-work-2/',\n",
       " 'https://insights.blackcoffer.com/estimating-the-impact-of-covid-19-on-the-world-of-work-3/',\n",
       " 'https://insights.blackcoffer.com/travel-and-tourism-outlook/',\n",
       " 'https://insights.blackcoffer.com/gaming-disorder-and-effects-of-gaming-on-health/',\n",
       " 'https://insights.blackcoffer.com/what-is-the-repercussion-of-the-environment-due-to-the-covid-19-pandemic-situation/',\n",
       " 'https://insights.blackcoffer.com/what-is-the-repercussion-of-the-environment-due-to-the-covid-19-pandemic-situation-2/',\n",
       " 'https://insights.blackcoffer.com/impact-of-covid-19-pandemic-on-office-space-and-co-working-industries/',\n",
       " 'https://insights.blackcoffer.com/contribution-of-handicrafts-visual-arts-literature-in-the-indian-economy/',\n",
       " 'https://insights.blackcoffer.com/how-covid-19-is-impacting-payment-preferences/',\n",
       " 'https://insights.blackcoffer.com/how-will-covid-19-affect-the-world-of-work-2/',\n",
       " 'https://insights.blackcoffer.com/lessons-from-the-past-some-key-learnings-relevant-to-the-coronavirus-crisis/',\n",
       " 'https://insights.blackcoffer.com/covid-19-how-have-countries-been-responding/',\n",
       " 'https://insights.blackcoffer.com/coronavirus-impact-on-the-hospitality-industry-2/',\n",
       " 'https://insights.blackcoffer.com/how-will-covid-19-affect-the-world-of-work-3/',\n",
       " 'https://insights.blackcoffer.com/coronavirus-impact-on-the-hospitality-industry-3/',\n",
       " 'https://insights.blackcoffer.com/estimating-the-impact-of-covid-19-on-the-world-of-work/',\n",
       " 'https://insights.blackcoffer.com/covid-19-how-have-countries-been-responding-2/',\n",
       " 'https://insights.blackcoffer.com/how-will-covid-19-affect-the-world-of-work-4/',\n",
       " 'https://insights.blackcoffer.com/lessons-from-the-past-some-key-learnings-relevant-to-the-coronavirus-crisis-2/',\n",
       " 'https://insights.blackcoffer.com/lessons-from-the-past-some-key-learnings-relevant-to-the-coronavirus-crisis-3/',\n",
       " 'https://insights.blackcoffer.com/coronavirus-impact-on-the-hospitality-industry-4/',\n",
       " 'https://insights.blackcoffer.com/why-scams-like-nirav-modi-happen-with-indian-banks/',\n",
       " 'https://insights.blackcoffer.com/impact-of-covid-19-on-the-global-economy/',\n",
       " 'https://insights.blackcoffer.com/impact-of-covid-19coronavirus-on-the-indian-economy-2/',\n",
       " 'https://insights.blackcoffer.com/impact-of-covid-19-on-the-global-economy-2/',\n",
       " 'https://insights.blackcoffer.com/impact-of-covid-19-coronavirus-on-the-indian-economy-3/',\n",
       " 'https://insights.blackcoffer.com/should-celebrities-be-allowed-to-join-politics/',\n",
       " 'https://insights.blackcoffer.com/how-prepared-is-india-to-tackle-a-possible-covid-19-outbreak/',\n",
       " 'https://insights.blackcoffer.com/how-will-covid-19-affect-the-world-of-work/',\n",
       " 'https://insights.blackcoffer.com/controversy-as-a-marketing-strategy/',\n",
       " 'https://insights.blackcoffer.com/coronavirus-impact-on-the-hospitality-industry/',\n",
       " 'https://insights.blackcoffer.com/coronavirus-impact-on-energy-markets/',\n",
       " 'https://insights.blackcoffer.com/what-are-the-key-policies-that-will-mitigate-the-impacts-of-covid-19-on-the-world-of-work/',\n",
       " 'https://insights.blackcoffer.com/marketing-drives-results-with-a-focus-on-problems/',\n",
       " 'https://insights.blackcoffer.com/continued-demand-for-sustainability/',\n",
       " 'https://insights.blackcoffer.com/coronavirus-disease-covid-19-effect-the-impact-and-role-of-mass-media-during-the-pandemic/',\n",
       " 'https://insights.blackcoffer.com/should-people-wear-fabric-gloves-seeking-evidence-regarding-the-differential-transfer-of-covid-19-or-coronaviruses-generally-between-surfaces/',\n",
       " 'https://insights.blackcoffer.com/why-is-there-a-severe-immunological-and-inflammatory-explosion-in-those-affected-by-sarms-covid-19/',\n",
       " 'https://insights.blackcoffer.com/what-do-you-think-is-the-lesson-or-lessons-to-be-learned-with-covid-19/',\n",
       " 'https://insights.blackcoffer.com/coronavirus-the-unexpected-challenge-for-the-european-union/',\n",
       " 'https://insights.blackcoffer.com/industrial-revolution-4-0-pros-and-cons/',\n",
       " 'https://insights.blackcoffer.com/impact-of-covid-19-coronavirus-on-the-indian-economy/',\n",
       " 'https://insights.blackcoffer.com/impact-of-covid-19-coronavirus-on-the-indian-economy-2/',\n",
       " 'https://insights.blackcoffer.com/impact-of-covid-19coronavirus-on-the-indian-economy/',\n",
       " 'https://insights.blackcoffer.com/impact-of-covid-19-coronavirus-on-the-global-economy/',\n",
       " 'https://insights.blackcoffer.com/ensuring-growth-through-insurance-technology/',\n",
       " 'https://insights.blackcoffer.com/blockchain-in-fintech/',\n",
       " 'https://insights.blackcoffer.com/blockchain-for-payments/',\n",
       " 'https://insights.blackcoffer.com/the-future-of-investing/',\n",
       " 'https://insights.blackcoffer.com/big-data-analytics-in-healthcare/',\n",
       " 'https://insights.blackcoffer.com/business-analytics-in-the-healthcare-industry/',\n",
       " 'https://insights.blackcoffer.com/challenges-and-opportunities-of-big-data-in-healthcare/']"
      ]
     },
     "execution_count": 58,
     "metadata": {},
     "output_type": "execute_result"
    }
   ],
   "source": [
    "url"
   ]
  },
  {
   "cell_type": "code",
   "execution_count": 59,
   "id": "3b7bb349",
   "metadata": {},
   "outputs": [],
   "source": [
    "url_id=[i for i in range(37,151)]"
   ]
  },
  {
   "cell_type": "code",
   "execution_count": 60,
   "id": "55ad9b0a",
   "metadata": {},
   "outputs": [],
   "source": [
    "data=pd.DataFrame()\n",
    "data['ID']=url_id\n",
    "data['URL']=url"
   ]
  },
  {
   "cell_type": "code",
   "execution_count": 42,
   "id": "3e3db8ea",
   "metadata": {},
   "outputs": [],
   "source": [
    "#processed input"
   ]
  },
  {
   "cell_type": "code",
   "execution_count": 97,
   "id": "01f915d4",
   "metadata": {},
   "outputs": [
    {
     "data": {
      "text/plain": [
       "ID     0\n",
       "URL    0\n",
       "dtype: int64"
      ]
     },
     "execution_count": 97,
     "metadata": {},
     "output_type": "execute_result"
    }
   ],
   "source": [
    "data.isnull().sum()"
   ]
  },
  {
   "cell_type": "code",
   "execution_count": 44,
   "id": "dea7a047",
   "metadata": {},
   "outputs": [],
   "source": [
    "headers = {\n",
    "    \"User-Agent\": \"Mozilla/5.0 (Macintosh; Intel Mac OS X 10_15_7) AppleWebKit/537.36 (KHTML, like Gecko) Chrome/107.0.0.0 Safari/537.36\"\n",
    "}\n",
    "\n",
    "\n"
   ]
  },
  {
   "cell_type": "code",
   "execution_count": 129,
   "id": "1e648b61",
   "metadata": {},
   "outputs": [],
   "source": [
    "url_id=37\n",
    "for link in data['URL']:\n",
    "    \n",
    "    page=requests.get(link,headers=headers)\n",
    "    soup=BeautifulSoup(page.content,'html.parser')\n",
    "    content=soup.findAll(attrs={'class':'td-post-content'})\n",
    "    title=soup.findAll(attrs={'class':'entry-title'})#extracting title of website\n",
    "    l=len(title)\n",
    "    if l<16:\n",
    "        title=title[0].text.replace('\\n',\"  \").replace('/',\"\")\n",
    "    else:\n",
    "         title=title[16].text.replace('\\n',\"  \").replace('/',\"\")\n",
    "    text=title+ '.' +str(content)#merging title and content text\n",
    "    text=np.array(text)#converting to array form\n",
    "    text.reshape(1,-1)#changing shape to 1d \n",
    "    df1=pd.Series(text)#creating series data frame\n",
    "    b=str(url_id)+\".\"+'txt'#name of the text file\n",
    "    with open(b, 'w') as f:#creating text file \n",
    "        df1.to_csv('/Users/abhishekroy/Downloads/file/'+ str(url_id) + '.csv', line_terminator=',', index=False, header=False)\n",
    "        #files.download(b)\n",
    "    url_id+=1\n",
    "   \n",
    "    "
   ]
  },
  {
   "cell_type": "code",
   "execution_count": 117,
   "id": "e2e7cb20",
   "metadata": {
    "scrolled": true
   },
   "outputs": [
    {
     "name": "stdout",
     "output_type": "stream",
     "text": [
      "0    Challenges and Opportunities of Big Data in He...\n",
      "dtype: object\n"
     ]
    }
   ],
   "source": [
    "import file"
   ]
  },
  {
   "cell_type": "code",
   "execution_count": null,
   "id": "22e096fb",
   "metadata": {},
   "outputs": [],
   "source": []
  },
  {
   "cell_type": "code",
   "execution_count": null,
   "id": "8280c267",
   "metadata": {},
   "outputs": [],
   "source": []
  },
  {
   "cell_type": "code",
   "execution_count": null,
   "id": "4b707ec1",
   "metadata": {},
   "outputs": [],
   "source": []
  }
 ],
 "metadata": {
  "kernelspec": {
   "display_name": "Python 3 (ipykernel)",
   "language": "python",
   "name": "python3"
  },
  "language_info": {
   "codemirror_mode": {
    "name": "ipython",
    "version": 3
   },
   "file_extension": ".py",
   "mimetype": "text/x-python",
   "name": "python",
   "nbconvert_exporter": "python",
   "pygments_lexer": "ipython3",
   "version": "3.10.5"
  }
 },
 "nbformat": 4,
 "nbformat_minor": 5
}
